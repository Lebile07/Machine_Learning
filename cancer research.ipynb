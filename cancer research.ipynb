{
 "cells": [
  {
   "cell_type": "code",
   "execution_count": 3,
   "id": "5ee987e2-acaa-4ea3-99f2-18f1468efb03",
   "metadata": {},
   "outputs": [],
   "source": [
    "from sklearn.datasets import load_breast_cancer"
   ]
  },
  {
   "cell_type": "code",
   "execution_count": 52,
   "id": "f9a32112-46c5-41fb-99cc-820959866a50",
   "metadata": {},
   "outputs": [],
   "source": [
    "bunch=load_breast_cancer()"
   ]
  },
  {
   "cell_type": "code",
   "execution_count": 54,
   "id": "52cbfd95-39d8-491f-b6e2-82950d00eece",
   "metadata": {},
   "outputs": [],
   "source": [
    "y=bunch.target"
   ]
  },
  {
   "cell_type": "code",
   "execution_count": 19,
   "id": "f890244a-8daf-4a08-9763-766d5ae8a5a2",
   "metadata": {},
   "outputs": [
    {
     "data": {
      "text/plain": [
       "(569,)"
      ]
     },
     "execution_count": 19,
     "metadata": {},
     "output_type": "execute_result"
    }
   ],
   "source": [
    "y.shape"
   ]
  },
  {
   "cell_type": "code",
   "execution_count": 56,
   "id": "10b8d4fd-9bd9-497d-85b7-36997af5ea30",
   "metadata": {},
   "outputs": [],
   "source": [
    "X=bunch.data"
   ]
  },
  {
   "cell_type": "code",
   "execution_count": 58,
   "id": "6a2fb6af-b2c0-47a3-ba4b-60e23e5fe6be",
   "metadata": {},
   "outputs": [
    {
     "data": {
      "text/plain": [
       "(569, 30)"
      ]
     },
     "execution_count": 58,
     "metadata": {},
     "output_type": "execute_result"
    }
   ],
   "source": [
    "X.shape"
   ]
  },
  {
   "cell_type": "code",
   "execution_count": 64,
   "id": "46e825e9-fadc-4241-8a5c-307c4c9a9f92",
   "metadata": {},
   "outputs": [
    {
     "data": {
      "text/plain": [
       "array(['mean radius', 'mean texture', 'mean perimeter', 'mean area',\n",
       "       'mean smoothness', 'mean compactness', 'mean concavity',\n",
       "       'mean concave points', 'mean symmetry', 'mean fractal dimension',\n",
       "       'radius error', 'texture error', 'perimeter error', 'area error',\n",
       "       'smoothness error', 'compactness error', 'concavity error',\n",
       "       'concave points error', 'symmetry error',\n",
       "       'fractal dimension error', 'worst radius', 'worst texture',\n",
       "       'worst perimeter', 'worst area', 'worst smoothness',\n",
       "       'worst compactness', 'worst concavity', 'worst concave points',\n",
       "       'worst symmetry', 'worst fractal dimension'], dtype='<U23')"
      ]
     },
     "execution_count": 64,
     "metadata": {},
     "output_type": "execute_result"
    }
   ],
   "source": [
    "bunch.feature_names"
   ]
  },
  {
   "cell_type": "code",
   "execution_count": 94,
   "id": "1e177f85-f569-4b19-8060-e3ce40e67889",
   "metadata": {},
   "outputs": [],
   "source": [
    "from sklearn.neighbors import KNeighborsClassifier\n",
    "from sklearn.model_selection import train_test_split\n",
    "from sklearn.metrics import classification_report,confusion_matrix\n",
    "from sklearn.metrics import mean_squared_error, r2_score"
   ]
  },
  {
   "cell_type": "code",
   "execution_count": 117,
   "id": "81424821-b482-44db-9b25-dfef8b5ffe61",
   "metadata": {},
   "outputs": [],
   "source": [
    "def KNN(n):\n",
    "    classifier=KNeighborsClassifier(n_neighbors=n)\n",
    "    X_train,X_test,y_train,y_test=train_test_split(X,y)\n",
    "    classifier.fit(X_train,y_train)\n",
    "    y_pred=classifier.predict(X_test)\n",
    "    score = r2_score(y_test,y_pred)\n",
    "    print(\"Score\",r2_score(y_test,y_pred))\n",
    "    print(\"rmse\",mean_squared_error(y_test,y_pred)**0.5)\n",
    "    print(classification_report(y_test,y_pred))\n",
    "    # print(confusion_matrix(y_test,y_pred))\n",
    "\n"
   ]
  },
  {
   "cell_type": "code",
   "execution_count": 133,
   "id": "11dce33f-0879-4f53-b1a7-68d489b38adf",
   "metadata": {},
   "outputs": [
    {
     "name": "stdout",
     "output_type": "stream",
     "text": [
      "n_neighbors is 5\n",
      "Score 0.6274424663482414\n",
      "rmse 0.28968272975116055\n",
      "              precision    recall  f1-score   support\n",
      "\n",
      "           0       0.93      0.82      0.87        49\n",
      "           1       0.91      0.97      0.94        94\n",
      "\n",
      "    accuracy                           0.92       143\n",
      "   macro avg       0.92      0.89      0.90       143\n",
      "weighted avg       0.92      0.92      0.91       143\n",
      "\n",
      "n_neighbors is 6\n",
      "Score 0.730188679245283\n",
      "rmse 0.25087260300212727\n",
      "              precision    recall  f1-score   support\n",
      "\n",
      "           0       0.92      0.91      0.91        53\n",
      "           1       0.95      0.96      0.95        90\n",
      "\n",
      "    accuracy                           0.94       143\n",
      "   macro avg       0.93      0.93      0.93       143\n",
      "weighted avg       0.94      0.94      0.94       143\n",
      "\n",
      "n_neighbors is 7\n",
      "Score 0.6238641798182687\n",
      "rmse 0.2773500981126146\n",
      "              precision    recall  f1-score   support\n",
      "\n",
      "           0       0.86      0.88      0.87        41\n",
      "           1       0.95      0.94      0.95       102\n",
      "\n",
      "    accuracy                           0.92       143\n",
      "   macro avg       0.90      0.91      0.91       143\n",
      "weighted avg       0.92      0.92      0.92       143\n",
      "\n",
      "n_neighbors is 8\n",
      "Score 0.70020964360587\n",
      "rmse 0.26444294267397256\n",
      "              precision    recall  f1-score   support\n",
      "\n",
      "           0       0.96      0.85      0.90        53\n",
      "           1       0.92      0.98      0.95        90\n",
      "\n",
      "    accuracy                           0.93       143\n",
      "   macro avg       0.94      0.91      0.92       143\n",
      "weighted avg       0.93      0.93      0.93       143\n",
      "\n",
      "n_neighbors is 9\n",
      "Score 0.6429463171036205\n",
      "rmse 0.28968272975116055\n",
      "              precision    recall  f1-score   support\n",
      "\n",
      "           0       0.94      0.83      0.88        54\n",
      "           1       0.91      0.97      0.93        89\n",
      "\n",
      "    accuracy                           0.92       143\n",
      "   macro avg       0.92      0.90      0.91       143\n",
      "weighted avg       0.92      0.92      0.91       143\n",
      "\n",
      "n_neighbors is 10\n",
      "Score 0.803030303030303\n",
      "rmse 0.20483662259967567\n",
      "              precision    recall  f1-score   support\n",
      "\n",
      "           0       0.95      0.91      0.93        44\n",
      "           1       0.96      0.98      0.97        99\n",
      "\n",
      "    accuracy                           0.96       143\n",
      "   macro avg       0.96      0.94      0.95       143\n",
      "weighted avg       0.96      0.96      0.96       143\n",
      "\n"
     ]
    }
   ],
   "source": [
    "for i in range(5,11):\n",
    "    n_neighbors= i\n",
    "    print(f\"n_neighbors is {n_neighbors}\")\n",
    "    KNN(i)"
   ]
  },
  {
   "cell_type": "code",
   "execution_count": null,
   "id": "56ad711d-9509-43ce-b814-7cd04c78c060",
   "metadata": {},
   "outputs": [],
   "source": []
  }
 ],
 "metadata": {
  "kernelspec": {
   "display_name": "Python 3 (ipykernel)",
   "language": "python",
   "name": "python3"
  },
  "language_info": {
   "codemirror_mode": {
    "name": "ipython",
    "version": 3
   },
   "file_extension": ".py",
   "mimetype": "text/x-python",
   "name": "python",
   "nbconvert_exporter": "python",
   "pygments_lexer": "ipython3",
   "version": "3.12.7"
  }
 },
 "nbformat": 4,
 "nbformat_minor": 5
}
