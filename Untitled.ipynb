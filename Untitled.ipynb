{
 "cells": [
  {
   "cell_type": "markdown",
   "id": "5a03b7eb-4d46-4f4f-8711-bd9cbf33dcfe",
   "metadata": {},
   "source": [
    "# Machine Learning"
   ]
  },
  {
   "cell_type": "code",
   "execution_count": null,
   "id": "5bbc1e2f-8a04-4cc7-ac32-9cf49572bcd6",
   "metadata": {},
   "outputs": [],
   "source": []
  },
  {
   "cell_type": "markdown",
   "id": "f87e649e-7194-4dc8-8ae2-b89804094723",
   "metadata": {},
   "source": [
    "## aspect of machine learning"
   ]
  },
  {
   "cell_type": "markdown",
   "id": "29e4f37b-a9fb-4911-a6ec-188c7c9eb20d",
   "metadata": {},
   "source": [
    "# supervise , unsupervise and reinforcement learning"
   ]
  },
  {
   "cell_type": "markdown",
   "id": "7e5089ca-a7b3-4afe-9cee-fdd297fee5f1",
   "metadata": {},
   "source": [
    "## classification and regression supervise learning\n",
    "## when you want your final output to be categorcal is called classification supervise learning\n",
    "## Binary classification((just two category)  and multiclass classification(three or more)\n",
    "## Regression is use to predict something that's continuous in nature\n",
    "## linear regression and non-linear"
   ]
  },
  {
   "cell_type": "markdown",
   "id": "97c147df-f1cf-4348-b61e-6deb0eaf69ed",
   "metadata": {},
   "source": [
    "# Train - test split"
   ]
  },
  {
   "cell_type": "code",
   "execution_count": null,
   "id": "04c3c93b-3999-4be1-a031-70c263108e0d",
   "metadata": {},
   "outputs": [],
   "source": [
    "\n",
    "fro sklearn.datasets import load"
   ]
  }
 ],
 "metadata": {
  "kernelspec": {
   "display_name": "Python 3 (ipykernel)",
   "language": "python",
   "name": "python3"
  },
  "language_info": {
   "codemirror_mode": {
    "name": "ipython",
    "version": 3
   },
   "file_extension": ".py",
   "mimetype": "text/x-python",
   "name": "python",
   "nbconvert_exporter": "python",
   "pygments_lexer": "ipython3",
   "version": "3.12.7"
  }
 },
 "nbformat": 4,
 "nbformat_minor": 5
}
