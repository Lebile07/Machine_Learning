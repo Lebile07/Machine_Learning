{
 "cells": [
  {
   "cell_type": "code",
   "execution_count": 3,
   "id": "5708bf08",
   "metadata": {},
   "outputs": [],
   "source": [
    "import pandas as pd\n",
    "import numpy as np \n",
    "import matplotlib.pyplot as plt"
   ]
  },
  {
   "cell_type": "code",
   "execution_count": 17,
   "id": "a42e88f9-4c3f-446a-a206-c7efc6dc152a",
   "metadata": {},
   "outputs": [],
   "source": [
    "data={\n",
    "    'Product_ID':[101,102,103,104,105,106,107,108,109,110],\n",
    "    'Product_Name':['Laptop','Smartphone','Headphones','Blender',\n",
    "                   'T-Shirt', 'Jeans', 'Microwave', 'Table Lamp','Sneakers','Watch'],\n",
    "    'Category': ['Electronics', 'Electronics', 'Electronics', 'Home Appliances',\n",
    "                    'Clothing', 'Clothing', 'Home Appliances', 'Home Appliances', \n",
    "                    'Clothing', 'Accessories'],\n",
    "    'Units_Sold': [50, 120, 200, 30, 150, 80, 40, 60, 90, 70],\n",
    "    'Price_Per_Unit': [1000, 800, 50, 200, 20, 40, 300, 50, 80, 150]\n",
    "    \n",
    "}"
   ]
  },
  {
   "cell_type": "code",
   "execution_count": 25,
   "id": "257cf638-df87-4bab-9418-e8c8e0cc2b46",
   "metadata": {},
   "outputs": [],
   "source": [
    "mock_data=pd.DataFrame(data)"
   ]
  },
  {
   "cell_type": "code",
   "execution_count": 27,
   "id": "d86e25cc-3475-4160-ab2b-fe8360de45ca",
   "metadata": {},
   "outputs": [
    {
     "data": {
      "text/html": [
       "<div>\n",
       "<style scoped>\n",
       "    .dataframe tbody tr th:only-of-type {\n",
       "        vertical-align: middle;\n",
       "    }\n",
       "\n",
       "    .dataframe tbody tr th {\n",
       "        vertical-align: top;\n",
       "    }\n",
       "\n",
       "    .dataframe thead th {\n",
       "        text-align: right;\n",
       "    }\n",
       "</style>\n",
       "<table border=\"1\" class=\"dataframe\">\n",
       "  <thead>\n",
       "    <tr style=\"text-align: right;\">\n",
       "      <th></th>\n",
       "      <th>Product_ID</th>\n",
       "      <th>Product_Name</th>\n",
       "      <th>Category</th>\n",
       "      <th>Units_Sold</th>\n",
       "      <th>Price_Per_Unit</th>\n",
       "    </tr>\n",
       "  </thead>\n",
       "  <tbody>\n",
       "    <tr>\n",
       "      <th>0</th>\n",
       "      <td>101</td>\n",
       "      <td>Laptop</td>\n",
       "      <td>Electronics</td>\n",
       "      <td>50</td>\n",
       "      <td>1000</td>\n",
       "    </tr>\n",
       "    <tr>\n",
       "      <th>1</th>\n",
       "      <td>102</td>\n",
       "      <td>Smartphone</td>\n",
       "      <td>Electronics</td>\n",
       "      <td>120</td>\n",
       "      <td>800</td>\n",
       "    </tr>\n",
       "    <tr>\n",
       "      <th>2</th>\n",
       "      <td>103</td>\n",
       "      <td>Headphones</td>\n",
       "      <td>Electronics</td>\n",
       "      <td>200</td>\n",
       "      <td>50</td>\n",
       "    </tr>\n",
       "    <tr>\n",
       "      <th>3</th>\n",
       "      <td>104</td>\n",
       "      <td>Blender</td>\n",
       "      <td>Home Appliances</td>\n",
       "      <td>30</td>\n",
       "      <td>200</td>\n",
       "    </tr>\n",
       "    <tr>\n",
       "      <th>4</th>\n",
       "      <td>105</td>\n",
       "      <td>T-Shirt</td>\n",
       "      <td>Clothing</td>\n",
       "      <td>150</td>\n",
       "      <td>20</td>\n",
       "    </tr>\n",
       "  </tbody>\n",
       "</table>\n",
       "</div>"
      ],
      "text/plain": [
       "   Product_ID Product_Name         Category  Units_Sold  Price_Per_Unit\n",
       "0         101       Laptop      Electronics          50            1000\n",
       "1         102   Smartphone      Electronics         120             800\n",
       "2         103   Headphones      Electronics         200              50\n",
       "3         104      Blender  Home Appliances          30             200\n",
       "4         105      T-Shirt         Clothing         150              20"
      ]
     },
     "execution_count": 27,
     "metadata": {},
     "output_type": "execute_result"
    }
   ],
   "source": [
    "mock_data.head()"
   ]
  },
  {
   "cell_type": "markdown",
   "id": "f3b7e433-bcae-4542-9f9d-755749ee7961",
   "metadata": {},
   "source": [
    "## Tatal revenue by each product"
   ]
  },
  {
   "cell_type": "code",
   "execution_count": 31,
   "id": "27477390-6e0d-425c-9670-784d5c2b4ba4",
   "metadata": {},
   "outputs": [],
   "source": [
    "mock_data[\"Revenue\"]=mock_data.Units_Sold*mock_data.Price_Per_Unit"
   ]
  },
  {
   "cell_type": "code",
   "execution_count": 33,
   "id": "a30975e2-046d-4bdc-8072-8dab06cc6a4f",
   "metadata": {},
   "outputs": [
    {
     "data": {
      "text/plain": [
       "0    50000\n",
       "1    96000\n",
       "2    10000\n",
       "3     6000\n",
       "4     3000\n",
       "5     3200\n",
       "6    12000\n",
       "7     3000\n",
       "8     7200\n",
       "9    10500\n",
       "Name: Revenue, dtype: int64"
      ]
     },
     "execution_count": 33,
     "metadata": {},
     "output_type": "execute_result"
    }
   ],
   "source": [
    "mock_data[\"Revenue\"]"
   ]
  },
  {
   "cell_type": "code",
   "execution_count": 173,
   "id": "1025398b-d840-48f9-a487-378143bf9fe0",
   "metadata": {},
   "outputs": [
    {
     "data": {
      "text/html": [
       "<div>\n",
       "<style scoped>\n",
       "    .dataframe tbody tr th:only-of-type {\n",
       "        vertical-align: middle;\n",
       "    }\n",
       "\n",
       "    .dataframe tbody tr th {\n",
       "        vertical-align: top;\n",
       "    }\n",
       "\n",
       "    .dataframe thead th {\n",
       "        text-align: right;\n",
       "    }\n",
       "</style>\n",
       "<table border=\"1\" class=\"dataframe\">\n",
       "  <thead>\n",
       "    <tr style=\"text-align: right;\">\n",
       "      <th></th>\n",
       "      <th>Product_Name</th>\n",
       "      <th>Revenue</th>\n",
       "    </tr>\n",
       "  </thead>\n",
       "  <tbody>\n",
       "    <tr>\n",
       "      <th>0</th>\n",
       "      <td>Laptop</td>\n",
       "      <td>50000</td>\n",
       "    </tr>\n",
       "    <tr>\n",
       "      <th>1</th>\n",
       "      <td>Smartphone</td>\n",
       "      <td>96000</td>\n",
       "    </tr>\n",
       "    <tr>\n",
       "      <th>2</th>\n",
       "      <td>Headphones</td>\n",
       "      <td>10000</td>\n",
       "    </tr>\n",
       "    <tr>\n",
       "      <th>3</th>\n",
       "      <td>Blender</td>\n",
       "      <td>6000</td>\n",
       "    </tr>\n",
       "    <tr>\n",
       "      <th>4</th>\n",
       "      <td>T-Shirt</td>\n",
       "      <td>3000</td>\n",
       "    </tr>\n",
       "    <tr>\n",
       "      <th>5</th>\n",
       "      <td>Jeans</td>\n",
       "      <td>3200</td>\n",
       "    </tr>\n",
       "    <tr>\n",
       "      <th>6</th>\n",
       "      <td>Microwave</td>\n",
       "      <td>12000</td>\n",
       "    </tr>\n",
       "    <tr>\n",
       "      <th>7</th>\n",
       "      <td>Table Lamp</td>\n",
       "      <td>3000</td>\n",
       "    </tr>\n",
       "    <tr>\n",
       "      <th>8</th>\n",
       "      <td>Sneakers</td>\n",
       "      <td>7200</td>\n",
       "    </tr>\n",
       "    <tr>\n",
       "      <th>9</th>\n",
       "      <td>Watch</td>\n",
       "      <td>10500</td>\n",
       "    </tr>\n",
       "  </tbody>\n",
       "</table>\n",
       "</div>"
      ],
      "text/plain": [
       "  Product_Name  Revenue\n",
       "0       Laptop    50000\n",
       "1   Smartphone    96000\n",
       "2   Headphones    10000\n",
       "3      Blender     6000\n",
       "4      T-Shirt     3000\n",
       "5        Jeans     3200\n",
       "6    Microwave    12000\n",
       "7   Table Lamp     3000\n",
       "8     Sneakers     7200\n",
       "9        Watch    10500"
      ]
     },
     "execution_count": 173,
     "metadata": {},
     "output_type": "execute_result"
    }
   ],
   "source": [
    "mock_data.loc[:,[\"Product_Name\",\"Revenue\"]]\n"
   ]
  },
  {
   "cell_type": "markdown",
   "id": "835af7bc-de17-4b42-bb54-b018951eb38f",
   "metadata": {},
   "source": [
    "## Total revenue per category"
   ]
  },
  {
   "cell_type": "code",
   "execution_count": 43,
   "id": "c251d5a7-3e2d-49b2-b52a-f9c7a4028341",
   "metadata": {},
   "outputs": [
    {
     "data": {
      "text/plain": [
       "array(['Electronics', 'Home Appliances', 'Clothing', 'Accessories'],\n",
       "      dtype=object)"
      ]
     },
     "execution_count": 43,
     "metadata": {},
     "output_type": "execute_result"
    }
   ],
   "source": [
    "mock_data.Category.unique"
   ]
  },
  {
   "cell_type": "code",
   "execution_count": 60,
   "id": "e18d0481-9a5d-4bad-88f8-881e36fedf90",
   "metadata": {},
   "outputs": [
    {
     "data": {
      "text/html": [
       "<div>\n",
       "<style scoped>\n",
       "    .dataframe tbody tr th:only-of-type {\n",
       "        vertical-align: middle;\n",
       "    }\n",
       "\n",
       "    .dataframe tbody tr th {\n",
       "        vertical-align: top;\n",
       "    }\n",
       "\n",
       "    .dataframe thead th {\n",
       "        text-align: right;\n",
       "    }\n",
       "</style>\n",
       "<table border=\"1\" class=\"dataframe\">\n",
       "  <thead>\n",
       "    <tr style=\"text-align: right;\">\n",
       "      <th></th>\n",
       "      <th>Product_ID</th>\n",
       "      <th>Product_Name</th>\n",
       "      <th>Units_Sold</th>\n",
       "      <th>Price_Per_Unit</th>\n",
       "      <th>Revenue</th>\n",
       "    </tr>\n",
       "    <tr>\n",
       "      <th>Category</th>\n",
       "      <th></th>\n",
       "      <th></th>\n",
       "      <th></th>\n",
       "      <th></th>\n",
       "      <th></th>\n",
       "    </tr>\n",
       "  </thead>\n",
       "  <tbody>\n",
       "    <tr>\n",
       "      <th>Accessories</th>\n",
       "      <td>110</td>\n",
       "      <td>Watch</td>\n",
       "      <td>70</td>\n",
       "      <td>150</td>\n",
       "      <td>10500</td>\n",
       "    </tr>\n",
       "    <tr>\n",
       "      <th>Clothing</th>\n",
       "      <td>320</td>\n",
       "      <td>T-ShirtJeansSneakers</td>\n",
       "      <td>320</td>\n",
       "      <td>140</td>\n",
       "      <td>13400</td>\n",
       "    </tr>\n",
       "    <tr>\n",
       "      <th>Electronics</th>\n",
       "      <td>306</td>\n",
       "      <td>LaptopSmartphoneHeadphones</td>\n",
       "      <td>370</td>\n",
       "      <td>1850</td>\n",
       "      <td>156000</td>\n",
       "    </tr>\n",
       "    <tr>\n",
       "      <th>Home Appliances</th>\n",
       "      <td>319</td>\n",
       "      <td>BlenderMicrowaveTable Lamp</td>\n",
       "      <td>130</td>\n",
       "      <td>550</td>\n",
       "      <td>21000</td>\n",
       "    </tr>\n",
       "  </tbody>\n",
       "</table>\n",
       "</div>"
      ],
      "text/plain": [
       "                 Product_ID                Product_Name  Units_Sold  \\\n",
       "Category                                                              \n",
       "Accessories             110                       Watch          70   \n",
       "Clothing                320        T-ShirtJeansSneakers         320   \n",
       "Electronics             306  LaptopSmartphoneHeadphones         370   \n",
       "Home Appliances         319  BlenderMicrowaveTable Lamp         130   \n",
       "\n",
       "                 Price_Per_Unit  Revenue  \n",
       "Category                                  \n",
       "Accessories                 150    10500  \n",
       "Clothing                    140    13400  \n",
       "Electronics                1850   156000  \n",
       "Home Appliances             550    21000  "
      ]
     },
     "execution_count": 60,
     "metadata": {},
     "output_type": "execute_result"
    }
   ],
   "source": [
    "category_group=mock_data.groupby('Category').sum()\n",
    "category_group"
   ]
  },
  {
   "cell_type": "code",
   "execution_count": 67,
   "id": "bf4f370a-3f90-46a4-8a2b-0f84a81a7e2b",
   "metadata": {},
   "outputs": [
    {
     "data": {
      "text/plain": [
       "Category\n",
       "Accessories         10500\n",
       "Clothing            13400\n",
       "Electronics        156000\n",
       "Home Appliances     21000\n",
       "Name: Revenue, dtype: int64"
      ]
     },
     "execution_count": 67,
     "metadata": {},
     "output_type": "execute_result"
    }
   ],
   "source": [
    "category_rev=category_group[\"Revenue\"]\n",
    "category_rev"
   ]
  },
  {
   "cell_type": "markdown",
   "id": "ea2301cf-4aab-4817-951e-0a9735278281",
   "metadata": {},
   "source": [
    "## Visualization of  Total revenue per category"
   ]
  },
  {
   "cell_type": "code",
   "execution_count": 73,
   "id": "b8374cca-99ff-4188-a40b-ed09a375e128",
   "metadata": {},
   "outputs": [
    {
     "data": {
      "text/plain": [
       "<Axes: title={'center': 'Total Revenue per Category'}, xlabel='Category', ylabel='Revenue'>"
      ]
     },
     "execution_count": 73,
     "metadata": {},
     "output_type": "execute_result"
    },
    {
     "data": {
      "image/png": "[encoded data removed]",
      "text/plain": [
       "<Figure size 640x480 with 1 Axes>"
      ]
     },
     "metadata": {},
     "output_type": "display_data"
    }
   ],
   "source": [
    "category_rev.plot(kind=\"bar\",ylabel=\"Revenue\",title=\"Total Revenue per Category\")"
   ]
  },
  {
   "cell_type": "markdown",
   "id": "009befe9-3fad-4029-aad2-6fedfc4e455e",
   "metadata": {},
   "source": [
    "## Best selling Product"
   ]
  },
  {
   "cell_type": "code",
   "execution_count": 159,
   "id": "889b47b3-e5f2-42ae-9fd4-483b2a3fc7a5",
   "metadata": {},
   "outputs": [
    {
     "data": {
      "text/html": [
       "<div>\n",
       "<style scoped>\n",
       "    .dataframe tbody tr th:only-of-type {\n",
       "        vertical-align: middle;\n",
       "    }\n",
       "\n",
       "    .dataframe tbody tr th {\n",
       "        vertical-align: top;\n",
       "    }\n",
       "\n",
       "    .dataframe thead th {\n",
       "        text-align: right;\n",
       "    }\n",
       "</style>\n",
       "<table border=\"1\" class=\"dataframe\">\n",
       "  <thead>\n",
       "    <tr style=\"text-align: right;\">\n",
       "      <th></th>\n",
       "      <th>Product_Name</th>\n",
       "      <th>Units_Sold</th>\n",
       "    </tr>\n",
       "  </thead>\n",
       "  <tbody>\n",
       "    <tr>\n",
       "      <th>0</th>\n",
       "      <td>Laptop</td>\n",
       "      <td>50</td>\n",
       "    </tr>\n",
       "    <tr>\n",
       "      <th>1</th>\n",
       "      <td>Smartphone</td>\n",
       "      <td>120</td>\n",
       "    </tr>\n",
       "    <tr>\n",
       "      <th>2</th>\n",
       "      <td>Headphones</td>\n",
       "      <td>200</td>\n",
       "    </tr>\n",
       "    <tr>\n",
       "      <th>3</th>\n",
       "      <td>Blender</td>\n",
       "      <td>30</td>\n",
       "    </tr>\n",
       "    <tr>\n",
       "      <th>4</th>\n",
       "      <td>T-Shirt</td>\n",
       "      <td>150</td>\n",
       "    </tr>\n",
       "    <tr>\n",
       "      <th>5</th>\n",
       "      <td>Jeans</td>\n",
       "      <td>80</td>\n",
       "    </tr>\n",
       "    <tr>\n",
       "      <th>6</th>\n",
       "      <td>Microwave</td>\n",
       "      <td>40</td>\n",
       "    </tr>\n",
       "    <tr>\n",
       "      <th>7</th>\n",
       "      <td>Table Lamp</td>\n",
       "      <td>60</td>\n",
       "    </tr>\n",
       "    <tr>\n",
       "      <th>8</th>\n",
       "      <td>Sneakers</td>\n",
       "      <td>90</td>\n",
       "    </tr>\n",
       "    <tr>\n",
       "      <th>9</th>\n",
       "      <td>Watch</td>\n",
       "      <td>70</td>\n",
       "    </tr>\n",
       "  </tbody>\n",
       "</table>\n",
       "</div>"
      ],
      "text/plain": [
       "  Product_Name  Units_Sold\n",
       "0       Laptop          50\n",
       "1   Smartphone         120\n",
       "2   Headphones         200\n",
       "3      Blender          30\n",
       "4      T-Shirt         150\n",
       "5        Jeans          80\n",
       "6    Microwave          40\n",
       "7   Table Lamp          60\n",
       "8     Sneakers          90\n",
       "9        Watch          70"
      ]
     },
     "execution_count": 159,
     "metadata": {},
     "output_type": "execute_result"
    }
   ],
   "source": [
    "product_and_unit_sold=mock_data.loc[:,[\"Product_Name\",\"Units_Sold\"]]\n",
    "product_and_unit_sold"
   ]
  },
  {
   "cell_type": "code",
   "execution_count": 167,
   "id": "44eb8f4d-69ab-48d1-9b45-412cb5c07cd0",
   "metadata": {},
   "outputs": [
    {
     "data": {
      "text/plain": [
       "Product_Name    Headphones\n",
       "Units_Sold             200\n",
       "Name: 2, dtype: object"
      ]
     },
     "execution_count": 167,
     "metadata": {},
     "output_type": "execute_result"
    }
   ],
   "source": [
    "best_selling_product=product_and_unit_sold.loc[2,[\"Product_Name\",\"Units_Sold\"]]\n",
    "best_selling_product"
   ]
  },
  {
   "cell_type": "code",
   "execution_count": null,
   "id": "f644cbc0-580c-4af8-abf2-c35b02f57599",
   "metadata": {},
   "outputs": [],
   "source": []
  }
 ],
 "metadata": {
  "kernelspec": {
   "display_name": "Python 3 (ipykernel)",
   "language": "python",
   "name": "python3"
  },
  "language_info": {
   "codemirror_mode": {
    "name": "ipython",
    "version": 3
   },
   "file_extension": ".py",
   "mimetype": "text/x-python",
   "name": "python",
   "nbconvert_exporter": "python",
   "pygments_lexer": "ipython3",
   "version": "3.12.7"
  }
 },
 "nbformat": 4,
 "nbformat_minor": 5
}
