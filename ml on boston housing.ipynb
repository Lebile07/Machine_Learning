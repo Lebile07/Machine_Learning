{
 "cells": [
  {
   "cell_type": "code",
   "execution_count": 258,
   "id": "568a5ac8-42fd-4f70-9298-dbafc5aa7f80",
   "metadata": {},
   "outputs": [
    {
     "name": "stderr",
     "output_type": "stream",
     "text": [
      "<>:5: SyntaxWarning: invalid escape sequence '\\s'\n",
      "<>:5: SyntaxWarning: invalid escape sequence '\\s'\n",
      "C:\\Users\\HP\\AppData\\Local\\Temp\\ipykernel_23456\\3358670259.py:5: SyntaxWarning: invalid escape sequence '\\s'\n",
      "  raw_df = pd.read_csv(data_url, sep=\"\\s+\", skiprows=22, header=None)\n"
     ]
    }
   ],
   "source": [
    "import pandas as pd\n",
    "import numpy as np\n",
    "\n",
    "data_url = \"http://lib.stat.cmu.edu/datasets/boston\"\n",
    "raw_df = pd.read_csv(data_url, sep=\"\\s+\", skiprows=22, header=None)\n",
    "X = np.hstack([raw_df.values[::2, :], raw_df.values[1::2, :2]])\n",
    "y = raw_df.values[1::2, 2]"
   ]
  },
  {
   "cell_type": "code",
   "execution_count": 259,
   "id": "918ae2d6-d4c9-4648-9be9-7942d6b37492",
   "metadata": {},
   "outputs": [],
   "source": [
    "from sklearn.linear_model import LinearRegression\n",
    "from sklearn.metrics import mean_squared_error, r2_score\n",
    "from sklearn.model_selection import train_test_split"
   ]
  },
  {
   "cell_type": "code",
   "execution_count": 261,
   "id": "2beb0635-e24f-4b37-8b2d-1defe116c6fd",
   "metadata": {},
   "outputs": [],
   "source": [
    "ml_model=LinearRegression()"
   ]
  },
  {
   "cell_type": "markdown",
   "id": "bbf55443-5654-48d2-bb5b-c4477b18d192",
   "metadata": {},
   "source": [
    "# using a function"
   ]
  },
  {
   "cell_type": "code",
   "execution_count": 273,
   "id": "898953b5-d1f6-4d03-963e-c2a3f781edf6",
   "metadata": {},
   "outputs": [],
   "source": [
    "def get_linear_model(X,y):\n",
    "    ml_model =LinearRegression()\n",
    "    X_train,X_test,y_train,y_test=train_test_split(X,y)\n",
    "    ml_model.fit(X_train,y_train)\n",
    "    y_pred=ml_model.predict(X_test)\n",
    "    score = r2_score(y_test,y_pred)\n",
    "    mse=mean_squared_error(y_test,y_pred)\n",
    "    print(f\"Score: {score*100}\\nMSE: {mse}\")\n",
    "    print(ml_model.coef_)\n",
    "    print(ml_model.intercept_)\n"
   ]
  },
  {
   "cell_type": "code",
   "execution_count": 279,
   "id": "25bd29fb-86ab-4f67-be46-fd5542d08e5c",
   "metadata": {},
   "outputs": [
    {
     "name": "stdout",
     "output_type": "stream",
     "text": [
      "Score: 63.44600591362672\n",
      "MSE: 31.54075555775517\n",
      "[-0.3432089   8.09576106 -0.04067506]\n",
      "-26.913876628294965\n"
     ]
    }
   ],
   "source": [
    "X_crim_rm_dis=X[:,[0,5,7]]\n",
    "get_linear_model(X_crim_rm_dis,y)"
   ]
  },
  {
   "cell_type": "code",
   "execution_count": 277,
   "id": "d1ea8103-7d04-4eef-9a53-1afdd958d3a6",
   "metadata": {},
   "outputs": [
    {
     "name": "stdout",
     "output_type": "stream",
     "text": [
      "Score: 31.862640016268628\n",
      "MSE: 54.30224583539627\n",
      "[-0.04917555  0.01715825 -0.01613079]\n",
      "26.53281579270935\n"
     ]
    }
   ],
   "source": [
    "x_age_b_tax=X[:,[6,11,9]]\n",
    "get_linear_model(x_age_b_tax,y)"
   ]
  },
  {
   "cell_type": "code",
   "execution_count": 283,
   "id": "245275d7-ebb7-4cf7-9d43-1e50713890b2",
   "metadata": {},
   "outputs": [
    {
     "name": "stdout",
     "output_type": "stream",
     "text": [
      "Score: 52.401195976735046\n",
      "MSE: 49.354267038976715\n",
      "[-0.27460291 -1.28060727 -1.00151679]\n",
      "42.98301473776422\n"
     ]
    }
   ],
   "source": [
    "x_indus_rad_lstat=X[:,[2,7,12]]\n",
    "get_linear_model(x_indus_rad_lstat,y)"
   ]
  },
  {
   "cell_type": "code",
   "execution_count": 287,
   "id": "edad13e6-d49b-4536-ba47-a79f65a6b850",
   "metadata": {},
   "outputs": [
    {
     "name": "stdout",
     "output_type": "stream",
     "text": [
      "Score: 61.676796686370615\n",
      "MSE: 34.760440349091695\n",
      "[-16.31543455   7.01265043  -1.14374932]\n",
      "8.463576061310619\n"
     ]
    }
   ],
   "source": [
    "x_nox_rm_ptratio=X[:,[4,5,10]]\n",
    "get_linear_model(x_nox_rm_ptratio,y)"
   ]
  },
  {
   "cell_type": "code",
   "execution_count": 291,
   "id": "f7a48424-307c-40c2-b336-133dc6b0d2e8",
   "metadata": {},
   "outputs": [
    {
     "name": "stdout",
     "output_type": "stream",
     "text": [
      "Score: 58.57844771441094\n",
      "MSE: 27.18859945552436\n",
      "[-15.37083523   7.89285083  -1.08042408]\n",
      "1.630506569409878\n"
     ]
    }
   ],
   "source": [
    "x_age_dis_rad=X[:,[6,7,8]]\n",
    "get_linear_model(x_nox_rm_ptratio,y)"
   ]
  },
  {
   "cell_type": "markdown",
   "id": "e72c80d5-d531-4127-810c-f2bc5c1d797a",
   "metadata": {},
   "source": [
    "## using Loop and a function"
   ]
  },
  {
   "cell_type": "code",
   "execution_count": 295,
   "id": "d205ab6f-6a34-486e-8c6a-343cbcf6eea3",
   "metadata": {},
   "outputs": [],
   "source": [
    "feature_combos=[X_crim_rm_dis,x_age_b_tax,x_indus_rad_lstat,x_nox_rm_ptratio,x_age_dis_rad]\n"
   ]
  },
  {
   "cell_type": "code",
   "execution_count": 301,
   "id": "78989451-a779-40af-8836-61d07be725d8",
   "metadata": {},
   "outputs": [
    {
     "name": "stdout",
     "output_type": "stream",
     "text": [
      "Score: 68.96008936562616\n",
      "MSE: 22.597226990184904\n",
      "[-0.25501943  7.9785171   0.1560681 ]\n",
      "-27.375173059883696\n",
      "None\n",
      "Score: 30.412742309494\n",
      "MSE: 63.428425130942635\n",
      "[-0.0495294   0.01300076 -0.01767035]\n",
      "28.482940309177604\n",
      "None\n",
      "Score: 57.13332413283404\n",
      "MSE: 36.64713235109741\n",
      "[-0.30545426 -1.26137391 -0.96006481]\n",
      "42.86274529093505\n",
      "None\n",
      "Score: 56.936409140194534\n",
      "MSE: 30.721781451181446\n",
      "[-16.79383444   7.2520459   -1.15478308]\n",
      "7.5438356383589955\n",
      "None\n",
      "Score: -4.198720960563551\n",
      "MSE: 81.38889027856372\n",
      "[-0.13805305 -0.77389159 -0.37213288]\n",
      "38.43739762624689\n",
      "None\n"
     ]
    }
   ],
   "source": [
    "for i in range(len(feature_combos)):\n",
    "    a=get_linear_model(feature_combos[i],y)\n",
    "    print(a)\n",
    "    "
   ]
  },
  {
   "cell_type": "code",
   "execution_count": null,
   "id": "dd946d7f-d5d0-4b1d-b1a9-8dd6f5a3a647",
   "metadata": {},
   "outputs": [],
   "source": []
  }
 ],
 "metadata": {
  "kernelspec": {
   "display_name": "Python 3 (ipykernel)",
   "language": "python",
   "name": "python3"
  },
  "language_info": {
   "codemirror_mode": {
    "name": "ipython",
    "version": 3
   },
   "file_extension": ".py",
   "mimetype": "text/x-python",
   "name": "python",
   "nbconvert_exporter": "python",
   "pygments_lexer": "ipython3",
   "version": "3.12.7"
  }
 },
 "nbformat": 4,
 "nbformat_minor": 5
}
